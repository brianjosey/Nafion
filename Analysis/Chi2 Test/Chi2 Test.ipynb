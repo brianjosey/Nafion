{
 "cells": [
  {
   "cell_type": "markdown",
   "metadata": {},
   "source": [
    "# Chi$^{2}$-Values in Python and Refl1D\n",
    "\n",
    "* **Author:** Brian P. Josey\n",
    "* **Date Created:** 2020-05-28\n",
    "* **Date Updated:** 2020-05-28\n",
    "* **Language:** Python 3.7.7\n",
    "\n",
    "It is unclear what the $\\chi^{2}$-values calculated by Refl1D are in the case of magnetic samples. One possibility is that it is the sum of the $\\chi^{2}$-values for each curve, and another is that it is the average. To test this, I am manually calculating the $\\chi^{2}$-values for one experiment, the Argon gas (Dry) sample with an interfacial spline with 6 control points. This was selected since it has the lowest $\\chi^{2}$-value of the fits.\n",
    "\n",
    "* **Expected $\\chi^{2}$-value:** 2.2951\n",
    "* **Number of Points:** 691\n",
    "* **Number of Parameters:** 32"
   ]
  },
  {
   "cell_type": "code",
   "execution_count": 1,
   "metadata": {},
   "outputs": [],
   "source": [
    "# Import libraries\n",
    "import numpy as np\n",
    "import pandas as pd\n",
    "import scipy"
   ]
  },
  {
   "cell_type": "code",
   "execution_count": 2,
   "metadata": {},
   "outputs": [],
   "source": [
    "# Reflectivity curves pp is (+,+), mm is (-,-)\n",
    "refl_pp = pd.read_csv(\"Ar_NarrowSpline-refl.datA\",\n",
    "                      delim_whitespace=True,\n",
    "                      header = 2,\n",
    "                      usecols=[\n",
    "                          '#',\n",
    "                          'Q',\n",
    "                          '(1/A)',\n",
    "                          'dQ',\n",
    "                          '(1/A).1',\n",
    "                          'R'\n",
    "                      ])\n",
    "\n",
    "refl_pp.columns = ['Q','dQ','R','dR','theory','fresnel']\n",
    "\n",
    "refl_mm = pd.read_csv(\"Ar_NarrowSpline-refl.datD\",\n",
    "                      delim_whitespace=True,\n",
    "                      header = 2,\n",
    "                      usecols=[\n",
    "                          '#',\n",
    "                          'Q',\n",
    "                          '(1/A)',\n",
    "                          'dQ',\n",
    "                          '(1/A).1',\n",
    "                          'R'\n",
    "                      ])\n",
    "\n",
    "refl_mm.columns = ['Q','dQ','R','dR','theory','fresnel']"
   ]
  },
  {
   "cell_type": "code",
   "execution_count": 3,
   "metadata": {},
   "outputs": [],
   "source": [
    "def reduced_chisquare(observed_values, expected_values, errors):\n",
    "    test_statistic=0\n",
    "    for observed, expected, error in zip(observed_values, expected_values, errors):\n",
    "        test_statistic+=(float(observed)-float(expected))**2/float(error)\n",
    "    return test_statistic"
   ]
  },
  {
   "cell_type": "code",
   "execution_count": 4,
   "metadata": {},
   "outputs": [],
   "source": [
    "# Calculate reduced chi-squared for each curve\n",
    "observed_values_pp=np.array(refl_pp['R'])\n",
    "expected_values_pp=np.array(refl_pp['theory'])\n",
    "errors_pp = np.array(refl_pp['dR'])\n",
    "\n",
    "\n",
    "observed_values_mm=np.array(refl_mm['R'])\n",
    "expected_values_mm=np.array(refl_mm['theory'])\n",
    "errors_mm = np.array(refl_mm['dR'])\n",
    "\n",
    "chi2_pp = reduced_chisquare(observed_values_pp, expected_values_pp, errors_pp)\n",
    "chi2_mm = reduced_chisquare(observed_values_mm, expected_values_mm, errors_mm)"
   ]
  },
  {
   "cell_type": "code",
   "execution_count": 5,
   "metadata": {},
   "outputs": [
    {
     "data": {
      "text/plain": [
       "1.1531251840262666"
      ]
     },
     "execution_count": 5,
     "metadata": {},
     "output_type": "execute_result"
    }
   ],
   "source": [
    "# Average chi^2\n",
    "\n",
    "ave_chi2 = (chi2_pp + chi2_mm)/2\n",
    "ave_chi2"
   ]
  },
  {
   "cell_type": "code",
   "execution_count": 6,
   "metadata": {},
   "outputs": [
    {
     "data": {
      "text/plain": [
       "2.3062503680525333"
      ]
     },
     "execution_count": 6,
     "metadata": {},
     "output_type": "execute_result"
    }
   ],
   "source": [
    "# Sum\n",
    "sum_chi2 = chi2_pp + chi2_mm\n",
    "sum_chi2"
   ]
  },
  {
   "cell_type": "code",
   "execution_count": null,
   "metadata": {},
   "outputs": [],
   "source": []
  }
 ],
 "metadata": {
  "kernelspec": {
   "display_name": "Python 3",
   "language": "python",
   "name": "python3"
  },
  "language_info": {
   "codemirror_mode": {
    "name": "ipython",
    "version": 3
   },
   "file_extension": ".py",
   "mimetype": "text/x-python",
   "name": "python",
   "nbconvert_exporter": "python",
   "pygments_lexer": "ipython3",
   "version": "3.7.7"
  }
 },
 "nbformat": 4,
 "nbformat_minor": 4
}
